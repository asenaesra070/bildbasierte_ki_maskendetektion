{
 "cells": [
  {
   "metadata": {},
   "cell_type": "markdown",
   "source": "### ACCURACY",
   "id": "c69fdf1e1c91a609"
  },
  {
   "cell_type": "code",
   "id": "initial_id",
   "metadata": {
    "collapsed": true,
    "ExecuteTime": {
     "end_time": "2025-05-13T14:41:30.036734Z",
     "start_time": "2025-05-13T14:41:30.030876Z"
    }
   },
   "source": "import torch ",
   "outputs": [],
   "execution_count": 2
  },
  {
   "metadata": {
    "ExecuteTime": {
     "end_time": "2025-05-13T14:43:01.216613Z",
     "start_time": "2025-05-13T14:43:01.125427Z"
    }
   },
   "cell_type": "code",
   "source": [
    "# Beispiel: 4 Vorhersagen\n",
    "vorhersagen = torch.tensor([1, 0, 1, 0])  # Modell-Ausgabe (nach Schwellenwert)\n",
    "labels =      torch.tensor([1, 0, 0, 1])  # Wahre Klassen\n",
    "\n",
    "# True Positive: Vorhersage = 1, Label = 1\n",
    "TP = ((vorhersagen == 1) & (labels == 1)).sum().item()\n",
    "\n",
    "# True Negative: Vorhersage = 0, Label = 0\n",
    "TN = ((vorhersagen == 0) & (labels == 0)).sum().item()\n",
    "\n",
    "# False Positive: Vorhersage = 1, Label = 0\n",
    "FP = ((vorhersagen == 1) & (labels == 0)).sum().item()\n",
    "\n",
    "# False Negative: Vorhersage = 0, Label = 1\n",
    "FN = ((vorhersagen == 0) & (labels == 1)).sum().item()\n",
    "\n",
    "# Accuracy berechnen\n",
    "accuracy = (TP + TN) / (TP + TN + FP + FN)\n",
    "\n",
    "print(f\"TP: {TP}, TN: {TN}, FP: {FP}, FN: {FN}\")\n",
    "print(f\"Genauigkeit (Accuracy): {accuracy:.2f}\")"
   ],
   "id": "2ca95294fb6b3b32",
   "outputs": [
    {
     "name": "stdout",
     "output_type": "stream",
     "text": [
      "TP: 1, TN: 1, FP: 1, FN: 1\n",
      "Genauigkeit (Accuracy): 0.50\n"
     ]
    }
   ],
   "execution_count": 3
  },
  {
   "metadata": {},
   "cell_type": "markdown",
   "source": "# Precision and Recall",
   "id": "f19c3f9349822c23"
  },
  {
   "metadata": {},
   "cell_type": "markdown",
   "source": [
    "| Metrik        | Wichtig wenn ...                                               |\n",
    "|---------------| -------------------------------------------------------------- |\n",
    "| **Precision** | Falsch-Positive **vermeidet** werden sollen → z. B. Spamfilter |\n",
    "| **Recall**    | Kein Positiv **übersehen** werden darf → z. B. Krebsdiagnose   |\n"
   ],
   "id": "e6361fdac246ad9a"
  },
  {
   "metadata": {
    "ExecuteTime": {
     "end_time": "2025-05-13T14:50:55.908407Z",
     "start_time": "2025-05-13T14:50:55.896608Z"
    }
   },
   "cell_type": "code",
   "source": [
    "# Vorhersagen des Modells (nach z.B. sigmoid → rundet auf 0 oder 1)\n",
    "vorhersagen = torch.tensor([1, 1, 0, 0])  # Modell: Maske / Keine Maske\n",
    "labels =      torch.tensor([1, 0, 1, 0])  # Realität\n",
    "\n",
    "# True Positive (korrekt positiv erkannt)\n",
    "TP = ((vorhersagen == 1) & (labels == 1)).sum().item()\n",
    "\n",
    "# False Positive (fälschlich als positiv erkannt)\n",
    "FP = ((vorhersagen == 1) & (labels == 0)).sum().item()\n",
    "\n",
    "# False Negative (fälschlich als negativ erkannt)\n",
    "FN = ((vorhersagen == 0) & (labels == 1)).sum().item()\n",
    "\n",
    "# Precision berechnen\n",
    "precision = TP / (TP + FP) if (TP + FP) != 0 else 0\n",
    "\n",
    "# Recall berechnen\n",
    "recall = TP / (TP + FN) if (TP + FN) != 0 else 0\n",
    "\n",
    "# Ausgabe\n",
    "print(f\"TP: {TP}, FP: {FP}, FN: {FN}\")\n",
    "print(f\"Präzision: {precision:.2f}\")\n",
    "print(f\"Recall / Sensitivität: {recall:.2f}\")\n"
   ],
   "id": "3be6ec8ef899ed78",
   "outputs": [
    {
     "name": "stdout",
     "output_type": "stream",
     "text": [
      "TP: 1, FP: 1, FN: 1\n",
      "Präzision: 0.50\n",
      "Recall / Sensitivität: 0.50\n"
     ]
    }
   ],
   "execution_count": 5
  },
  {
   "metadata": {},
   "cell_type": "markdown",
   "source": "# F1 SCORE AND GEGENTEIL RECALL DER SPEZIFITAT IST ",
   "id": "d15da6dfbc8b073c"
  },
  {
   "metadata": {
    "ExecuteTime": {
     "end_time": "2025-05-13T15:05:59.647721Z",
     "start_time": "2025-05-13T15:05:59.635659Z"
    }
   },
   "cell_type": "code",
   "source": [
    "# Beispielhafte Vorhersagen und echte Labels\n",
    "vorhersagen = torch.tensor([1, 0, 0, 1])\n",
    "labels =      torch.tensor([1, 0, 1, 0])\n",
    "\n",
    "# Grundlegende Werte berechnen\n",
    "TP = ((vorhersagen == 1) & (labels == 1)).sum().item()\n",
    "TN = ((vorhersagen == 0) & (labels == 0)).sum().item()\n",
    "FP = ((vorhersagen == 1) & (labels == 0)).sum().item()\n",
    "FN = ((vorhersagen == 0) & (labels == 1)).sum().item()\n",
    "\n",
    "# Precision und Recall\n",
    "precision = TP / (TP + FP) if (TP + FP) > 0 else 0\n",
    "recall = TP / (TP + FN) if (TP + FN) > 0 else 0\n",
    "\n",
    "# F1-Score\n",
    "f1_score = 2 * precision * recall / (precision + recall) if (precision + recall) > 0 else 0\n",
    "\n",
    "# Spezifität\n",
    "spezifitaet = TN / (TN + FP) if (TN + FP) > 0 else 0\n",
    "\n",
    "# Ausgabe\n",
    "print(f\"TP: {TP}, TN: {TN}, FP: {FP}, FN: {FN}\")\n",
    "print(f\"F1-Score      : {f1_score:.2f}\")\n",
    "print(f\"Spezifität    : {spezifitaet:.2f}\")\n"
   ],
   "id": "fbd6a9203607dff6",
   "outputs": [
    {
     "name": "stdout",
     "output_type": "stream",
     "text": [
      "TP: 1, TN: 1, FP: 1, FN: 1\n",
      "F1-Score      : 0.50\n",
      "Spezifität    : 0.50\n"
     ]
    }
   ],
   "execution_count": 7
  },
  {
   "metadata": {},
   "cell_type": "markdown",
   "source": [
    "# Was ist IoU?IoU (Intersection over Union) ist ein Maß für die Übereinstimmung zwischen zwei Rechtecken:\n",
    "\n",
    "dem Ground Truth (grün): was richtig wäre\n",
    "\n",
    "der Prediction (rot): was das Modell vorhergesagt hat"
   ],
   "id": "f13b014c1742839d"
  },
  {
   "metadata": {
    "jupyter": {
     "is_executing": true
    },
    "ExecuteTime": {
     "start_time": "2025-05-13T15:42:01.256910Z"
    }
   },
   "cell_type": "code",
   "source": [
    "import pandas as pd\n",
    "import matplotlib.pyplot as plt\n",
    "\n",
    "# Veriler: Detektion, Konfidenz und IoU\n",
    "data = {\n",
    "    'Detektion': ['e', 'a', 'g', 'f', 'b', 'h', 'i', 'c', 'd'],\n",
    "    'Konfidenz': [99, 98, 97, 96, 95, 92, 89, 86, 84],\n",
    "    'IoU': [97, 92, 87, 82, 73, 48, 66, 47, 42]\n",
    "}\n",
    "\n",
    "df = pd.DataFrame(data)\n",
    "\n",
    "# IOU-Schwelle: Ab wann ist es eine True Positive?\n",
    "iou_threshold = 50\n",
    "\n",
    "# TP-Spalte: 1 wenn IoU >= threshold, sonst 0\n",
    "df['TP'] = (df['IoU'] >= iou_threshold).astype(int)\n",
    "\n",
    "# Kumulative True Positives berechnen\n",
    "df['cumTP'] = df['TP'].cumsum()\n",
    "\n",
    "# Anzahl aller Ground Truth-Objekte im Bild\n",
    "total_gt = 8\n",
    "\n",
    "# Precision und Recall berechnen\n",
    "df['Precision'] = df['cumTP'] / (df.index + 1)\n",
    "df['Recall'] = df['cumTP'] / total_gt\n",
    "\n",
    "# Precision-Recall-Kurve zeichnen\n",
    "plt.figure(figsize=(8, 6))\n",
    "plt.plot(df['Recall'], df['Precision'], marker='o', color='olive')\n",
    "\n",
    "# Detektionsnamen ins Diagramm einzeichnen\n",
    "for i, row in df.iterrows():\n",
    "    plt.text(row['Recall'] + 0.005, row['Precision'], row['Detektion'], fontsize=9)\n",
    "\n",
    "plt.xlabel('Recall')\n",
    "plt.ylabel('Precision')\n",
    "plt.title('Precision-Recall-Kurve')\n",
    "plt.grid(True)\n",
    "plt.show()\n",
    "\n",
    "# Son tabloyu da görmek istersen:\n",
    "print(df[['Detektion', 'Konfidenz', 'IoU', 'TP', 'cumTP', 'Precision', 'Recall']])\n"
   ],
   "id": "dfc8c07edaa512ed",
   "outputs": [],
   "execution_count": null
  },
  {
   "metadata": {},
   "cell_type": "markdown",
   "source": "",
   "id": "e51906cd7cbfa316"
  }
 ],
 "metadata": {
  "kernelspec": {
   "display_name": "Python 3",
   "language": "python",
   "name": "python3"
  },
  "language_info": {
   "codemirror_mode": {
    "name": "ipython",
    "version": 2
   },
   "file_extension": ".py",
   "mimetype": "text/x-python",
   "name": "python",
   "nbconvert_exporter": "python",
   "pygments_lexer": "ipython2",
   "version": "2.7.6"
  }
 },
 "nbformat": 4,
 "nbformat_minor": 5
}
