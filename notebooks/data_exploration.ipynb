{
 "cells": [
  {
   "metadata": {},
   "cell_type": "markdown",
   "source": "# Exploratory Data Analysis (EDA) is a statistical and visual approach to understanding data.",
   "id": "cfc4e97f8721b324"
  },
  {
   "metadata": {},
   "cell_type": "markdown",
   "source": [
    "!!! Dokumentation + Code kombiniert\n",
    "→ Du kannst Markdown & Code mischen → ideal für Notizen, Erkenntnisse etc.\n",
    "\n",
    "!!! Visualisierung direkt im Fluss\n",
    "→ matplotlib, seaborn, PIL etc. zeigen Bilder direkt inline."
   ],
   "id": "2e0f71afe8924dbd"
  },
  {
   "cell_type": "code",
   "execution_count": null,
   "id": "initial_id",
   "metadata": {
    "collapsed": true
   },
   "outputs": [],
   "source": [
    ""
   ]
  },
  {
   "metadata": {},
   "cell_type": "markdown",
   "source": "",
   "id": "9bee0072aff8f76d"
  }
 ],
 "metadata": {
  "kernelspec": {
   "display_name": "Python 3",
   "language": "python",
   "name": "python3"
  },
  "language_info": {
   "codemirror_mode": {
    "name": "ipython",
    "version": 2
   },
   "file_extension": ".py",
   "mimetype": "text/x-python",
   "name": "python",
   "nbconvert_exporter": "python",
   "pygments_lexer": "ipython2",
   "version": "2.7.6"
  }
 },
 "nbformat": 4,
 "nbformat_minor": 5
}
