{
 "cells": [
  {
   "metadata": {},
   "cell_type": "markdown",
   "source": "# 📌 Was ist eine Loss Function / Verlustfunktion?",
   "id": "cfc4e97f8721b324"
  },
  {
   "metadata": {},
   "cell_type": "markdown",
   "source": [
    "Die **Loss Function (Verlustfunktion)** ist das Herzstück des Lernprozesses im Deep Learning.\n",
    "\n",
    "Die Loss Function misst, wie falsch das Modell aktuell liegt.\n",
    "**Das Ziel des Trainings ist es, den Loss zu minimieren,** also:\n",
    "\n",
    "\"Die Vorhersagen des Modells sollen **immer näher an die wahren Labels kommen.\"**\n",
    "### Binary Entropy Loss ? (BCELoss)\n",
    "criterion = nn.BCELoss()\n",
    "\n",
    "loss = criterion(y_pred, y_true)\n",
    "\n",
    "Pytorch modeul , Standard bei binärer Klassifikation (0 vs. 1)\n",
    "\n",
    "Verwendete Formel der Binary Cross Entropy:\n",
    "\n",
    "$$\n",
    "\\text{Loss} = -\\frac{1}{n} \\sum_{i=1}^{n} \\left[ y_i \\cdot \\log(p_i) + (1 - y_i) \\cdot \\log(1 - p_i) \\right]\n",
    "$$\n",
    "\n",
    "---\n",
    "\n",
    "\n",
    "Mit Mask : 1\n",
    "\n",
    "Ohne Mask : 0 \n",
    "\n",
    "$$\n",
    "L(\\hat{o}, (i, o)) \\in [0, \\infty)\n",
    "$$\n",
    "\n",
    "$$\n",
    "\\text{Loss} = - \\left[ y \\cdot \\log(p) + (1 - y) \\cdot \\log(1 - p) \\right]\n",
    "$$\n",
    "\n",
    "Dabei ist:\n",
    "- \\( y \\in \\{0, 1\\} \\) das echte Label  \n",
    "- \\( p \\in [0,1] \\) die vom Modell vorhergesagte Wahrscheinlichkeit\n",
    "\n",
    "\n",
    "# 🧠 Entscheidungsfunktion: Theorie & Definition\n",
    "\n",
    "Die **Entscheidungsfunktion** sagt aus, welche Ausgabe das Modell für eine bestimmte Eingabe produziert.\n",
    "Formal gesagt:\n",
    "\n",
    "Eine Funktion \n",
    "𝛿\n",
    "δ, die jedem Eingabevektor \n",
    "𝑖\n",
    "i aus dem Merkmalsraum \n",
    "𝑆\n",
    "S eine Entscheidung \n",
    "𝑜\n",
    "o aus dem Ausgaberaum \n",
    "𝑂\n",
    "O zuordnet.\n",
    "\n",
    "$$\n",
    "\\delta : \\mathcal{S} \\rightarrow O\n",
    "$$\n",
    "\n",
    "- \\(S ⊆{R}^n\\) ist der Merkmalsraum (Input)\n",
    "- \\(O ⊆{R}\\) ist der Ausgaberaum (z. B. {0, 1})\n",
    "\n",
    "Im Kontext der Maskenerkennung:\n",
    "\n",
    "- Eingabe \\(i\\): Bilddaten eines Gesichts\n",
    "- Ausgabe \\(δ(i)\\): Entscheidung = „Maske“ (1) oder „keine Maske“ (0)\n",
    "\n",
    "⚠️ Die Ausgabe \\(δ(i)\\) kann sich von der wahren Ausgabe \\(o\\) unterscheiden.\n",
    "\n",
    "\n",
    "**Das bedeutet Zwei Klassen und eine Entscheidung**\n",
    "\n",
    "\n",
    "**Entscheidungsfunktion (δ)  →  Verlustfunktion (L)  →  BCE-Formel  →  Loss.backward()**\n"
   ],
   "id": "2e0f71afe8924dbd"
  },
  {
   "cell_type": "code",
   "id": "initial_id",
   "metadata": {
    "collapsed": true,
    "ExecuteTime": {
     "end_time": "2025-05-06T12:05:44.293257Z",
     "start_time": "2025-05-06T12:05:44.285140Z"
    }
   },
   "source": [
    "import torch\n",
    "import torch.nn as nn\n",
    "from conda.testing.helpers import TEST_DATA_DIR"
   ],
   "outputs": [],
   "execution_count": 2
  },
  {
   "metadata": {},
   "cell_type": "markdown",
   "source": "",
   "id": "9bee0072aff8f76d"
  },
  {
   "metadata": {
    "ExecuteTime": {
     "end_time": "2025-05-06T12:15:13.240342Z",
     "start_time": "2025-05-06T12:15:13.230456Z"
    }
   },
   "cell_type": "code",
   "source": [
    "# All elements of target should be between 0 and 1\n",
    "predictions = torch.tensor([0.9, 0.2, 0.8], dtype=torch.float32) # Beispiel: Modellvorhersagen (Wahrscheinlichkeiten)\n",
    "targets = torch.tensor([1.0, 0.0, 0.3], dtype=torch.float32)     # Echte Labels"
   ],
   "id": "4bbeca9022f2e955",
   "outputs": [],
   "execution_count": 7
  },
  {
   "metadata": {
    "ExecuteTime": {
     "end_time": "2025-05-06T12:15:14.402391Z",
     "start_time": "2025-05-06T12:15:14.388840Z"
    }
   },
   "cell_type": "code",
   "source": [
    "loss_fc = nn.BCELoss()      # Binary Entropy Loss\n",
    "loss = loss_fc(predictions, targets)   # Loss Berechnen\n",
    "print(f\"Loss: {loss.item():.4f}\")"
   ],
   "id": "3958af9c61482e2f",
   "outputs": [
    {
     "name": "stdout",
     "output_type": "stream",
     "text": [
      "Loss: 0.5074\n"
     ]
    }
   ],
   "execution_count": 8
  },
  {
   "metadata": {},
   "cell_type": "markdown",
   "source": [
    "Ein eigenes Modell (z. B. MyCNN)\n",
    "\n",
    "Datenvorbereitung + DataLoader\n",
    "\n",
    "Loss-Funktion (BCELoss)\n",
    "\n",
    "Optimizer (z. B. Adam)\n",
    "\n",
    "Trainingsschleife"
   ],
   "id": "1318c44b136604bb"
  },
  {
   "metadata": {
    "ExecuteTime": {
     "end_time": "2025-05-06T13:44:37.111162Z",
     "start_time": "2025-05-06T13:44:37.098410Z"
    }
   },
   "cell_type": "code",
   "source": [
    "# 1- MyCNN\n",
    "class MyCNN(nn.Module):\n",
    "    def __init__(self):                               # Netzwerk definiert und initialisiert\n",
    "        super(MyCNN, self).__init__()                 # Ruft den Konstruktor der Basisklasse nn.Module auf. Das ist nötig, damit PyTorch intern alles korrekt registriert.\n",
    "        # Convolutional Layer-Block\n",
    "        self.conv_layer = nn.Sequential(\n",
    "            nn.Conv2d(1, 16, kernel_size=3, stride=1, padding=1),  # Erste Convolution-Schicht. Input hat 1 Kanal (Graustufenbild), Output 16 Filter.\n",
    "            nn.ReLU(),                                             # Aktivierungsfunktion – führt Nichtlinearität ein.\n",
    "            nn.MaxPool2d(2),                                       # Verkleinert die Bildgröße um die Hälfte.\n",
    "            nn.Conv2d(16, 32, kernel_size=3, stride=1, padding=1), nn.ReLU(), nn.MaxPool2d(2),  # Zweite Convolution – jetzt 32 Filter.\n",
    "            nn.ReLU(),                                               # Aktivierungsfunktion – führt Nichtlinearität ein. warum 2te mal\n",
    "            nn.MaxPool2d(2)                                          # Verkleinert die Bildgröße um die Hälfte. warum 2te mal\n",
    "        )\n",
    "        # Fully Connected Layer\n",
    "        self.fc_layer = nn.Sequential(\n",
    "            nn.Flatten(),\n",
    "            nn.Linear(288, 1),\n",
    "            nn.Sigmoid()  # Wichtig für BCE!\n",
    "        )\n",
    "    # DAMIT DAS MANN KANN RUFT JEDES MAL BATCH   x output  \n",
    "    def forward(self, x):\n",
    "        x = self.conv_layer(x)\n",
    "        x = self.fc_layer(x)\n",
    "        return x    "
   ],
   "id": "f8ffaf0b26c0bf1a",
   "outputs": [],
   "execution_count": 24
  },
  {
   "metadata": {},
   "cell_type": "markdown",
   "source": [
    "### Was macht Fully Connected Layer (FC)? Kann es ohne Konvertierung verwendet werden?\n",
    "Seine Funktion: Er fasst alle Merkmale in einem einzigen Vektor zusammen und trifft die endgültige Entscheidung (zum Beispiel: „Ist eine Maske vorhanden?“ → ja/nein).\n",
    "\n",
    "Mathematisch: Jedes Neuron ist mit allen Neuronen in der vorherigen Schicht verbunden.\n",
    "\n",
    "✅ Ja, es kann ohne Faltung verwendet werden (z. B. MLP – Multilayer Perceptron), aber es ist für Bilder sehr ineffizient, weil:\n",
    "\n",
    "Positionsinformationen gehen verloren.\n",
    "\n",
    "Zu viele Parameter → Überanpassung."
   ],
   "id": "928aeec04f14e78a"
  },
  {
   "metadata": {
    "ExecuteTime": {
     "end_time": "2025-05-06T13:44:39.065149Z",
     "start_time": "2025-05-06T13:44:39.042562Z"
    }
   },
   "cell_type": "code",
   "source": [
    "from torch.utils.data import DataLoader, TensorDataset\n",
    "\n",
    "# Dummy-Daten: 100 Bilder in Grau (1 Kanal, 28x28)\n",
    "X = torch.randn(100, 1, 28, 28)\n",
    "y = torch.randint(0, 2, (100, 1)).float()  # Binäre Labels (0 oder 1)\n",
    "\n",
    "dataset = TensorDataset(X, y)\n",
    "loader = DataLoader(dataset, batch_size=16, shuffle=True)\n"
   ],
   "id": "2c7a9e564a7f1b81",
   "outputs": [],
   "execution_count": 25
  },
  {
   "metadata": {
    "ExecuteTime": {
     "end_time": "2025-05-06T13:44:41.155826Z",
     "start_time": "2025-05-06T13:44:40.655067Z"
    }
   },
   "cell_type": "code",
   "source": [
    "# TRAINING\n",
    "model = MyCNN()\n",
    "criterion = nn.BCELoss()\n",
    "optimizer = torch.optim.Adam(model.parameters(), lr=0.001)\n",
    "\n",
    "for epoch in range(5):\n",
    "    for batch_X, batch_y in loader:\n",
    "        outputs = model(batch_X)\n",
    "        loss = criterion(outputs, batch_y)\n",
    "        \n",
    "        optimizer.zero_grad()\n",
    "        loss.backward()\n",
    "        optimizer.step()\n",
    "\n",
    "    print(f\"Epoch {epoch+1}, Loss: {loss.item():.4f}\")\n"
   ],
   "id": "3946c782d1c0bdb4",
   "outputs": [
    {
     "name": "stdout",
     "output_type": "stream",
     "text": [
      "Epoch 1, Loss: 0.7857\n",
      "Epoch 2, Loss: 0.6931\n",
      "Epoch 3, Loss: 0.6740\n",
      "Epoch 4, Loss: 0.6722\n",
      "Epoch 5, Loss: 0.6950\n"
     ]
    }
   ],
   "execution_count": 26
  },
  {
   "metadata": {},
   "cell_type": "markdown",
   "source": [
    "# 🧠 Erwartetes Verlustrisiko (Expected Risk)Das Ziel eines ML-Modells ist, eine Funktion \n",
    "Das Ziel eines ML-Modells ist, eine Funktion \n",
    "𝛿\n",
    "δ zu finden, die bei gegebenen Eingabedaten \n",
    "𝑖\n",
    "i eine gute Vorhersage \n",
    "𝑜\n",
    "o macht. Dazu definieren wir:\n",
    "\n",
    "Die Verlustfunktion \\( L(\\hat{o}, (i, o)) \\) misst den Fehler zwischen der Vorhersage \\( \\hat{o} \\) und dem tatsächlichen Wert \\( o \\), gegeben einer Eingabe \\( i \\). Da die Eingaben aus einer Verteilung stammen, betrachten wir den Erwartungswert des Verlusts über alle möglichen Eingaben:\n",
    "\n",
    "$$\n",
    "R(\\delta) := \\int_{\\Omega} L(\\hat{o}, (i, o)) \\cdot p(\\Omega)\n",
    "$$\n",
    "\n",
    "- \\(R(δ)): Raum der Eingabe-Ausgabe-Paare \\( (i, o) \\)\n",
    "- \\(L(⋅)): Verlustfunktion, (wie stark weicht die Vorhersage von der Wahrheit ab)\n",
    "- \\(p(Ω): Wahrscheinlichkeitsdichte für das Auftreten von \\( (i, o) \\)\n",
    "\n",
    "👉 Ziel ist es, eine Entscheidungsfunktion \\( \\delta \\) zu finden, die das **Risiko** \\( R(\\delta) \\) minimiert:\n",
    "\n",
    "$$\n",
    "\\delta^* := \\operatorname{argmin}_\\delta R(\\delta)\n",
    "$$\n",
    "\n",
    "Man nennt \\(δ* ) auch die **Bayes'sche Entscheidungsfunktion**, da sie unter der gegebenen Verteilung den geringsten erwarteten Verlust erzielt.\n"
   ],
   "id": "697e504db949d18d"
  },
  {
   "metadata": {},
   "cell_type": "markdown",
   "source": "",
   "id": "ebff31bf4e6f4980"
  },
  {
   "metadata": {},
   "cell_type": "markdown",
   "source": [
    "### Was sind ReLU und MaxPool? Warum MaxPool2d?\n",
    "    🧠 ReLU (gleichgerichtete lineare Einheit):\n",
    "            Aktivierungsfunktion: Macht aus negativen Werten 0.\n",
    "\n",
    "            Die Berechnung ist sehr schnell.\n",
    "\n",
    "    Es bringt Nichtlinearität. Andernfalls kann das Modell nicht über das „Zeichnen einer Linie“ hinausgehen.\n",
    "\n",
    "    🧱 MaxPool2d:\n",
    "            Es komprimiert die Daten, reduziert also die Größe.\n",
    "            \n",
    "            Nimmt 2x2 Regionen und behält nur den größten Wert.\n",
    "            \n",
    "            Reduziert Lärm und ermöglicht effizientes Lernen.\n",
    "\n",
    "### Warum 2D?\n",
    "\n",
    "Bilder sind 2D (Höhe × Breite), daher verwenden wir MaxPool2d.\n",
    "\n",
    "            MaxPool1d → für Zeitreihen\n",
    "            \n",
    "            MaxPool3d → für 3D-Daten (z. B. Videos)\n",
    "\n",
    "### Warum gibt es nach jeder Faltung ReLU + MaxPool?\n",
    "            Bei der Faltung werden nur Filter angewendet, jedoch keine Nichtlinearität oder Dimensionsreduzierung erreicht.\n",
    "            \n",
    "            ReLU → stärkt das Lernen (vermeidet Gradientenverlust).\n",
    "            \n",
    "            MaxPool → fasst Funktionen zusammen und bietet eine bessere Generalisierung mit weniger Parametern.\n",
    "            \n",
    "            Jedes Mal, wenn dieses Paar angewendet wird, gilt für das Modell:\n",
    "            \n",
    "            Lernt besser.\n",
    "            \n",
    "            Kann mit weniger Daten verallgemeinern.\n",
    "            \n",
    "            Die Berechnung wird effizienter.\n",
    "            \n",
    "# Lernverfahren"
   ],
   "id": "9d3c724be370957f"
  },
  {
   "metadata": {},
   "cell_type": "markdown",
   "source": [
    "**1. Perzeptron-Ausgabe (einfaches Neuron mit Aktivierungsfunktion):**\n",
    "$$\n",
    "\\phi(x) = \\rho\\left( \\sum_{j=1}^{n} x_j \\cdot w_{j,i} + b \\right) = x_i\n",
    "$$\n",
    "\n",
    "**2. Gewichtsanpassung im Hopfield-Netzwerk (Hebbsche Lernregel):**\n",
    "$$\n",
    "w(i,j) = \\sum_{k=1}^{n} a_k(i) \\cdot a_k(j)\n",
    "$$\n",
    "\n",
    "**3. Neuron-Ausgabe in Layer \\( l \\) eines Feedforward-Netzes (mit Bias und Aktivierungsfunktion):**\n",
    "$$\n",
    "x_h^{(l)} = \\rho^{(l)}\\left( \\sum_{j=1}^{n^{(l-1)}} x_j^{(l-1)} \\cdot w_{j,h}^{(l)} + b_h^{(l)} \\right)\n",
    "$$\n",
    "\n",
    "**4. Backpropagation – Gewichtsanpassung (Gradient Descent Regel):**\n",
    "$$\n",
    "\\Delta w_{j,h}^{(l)} = \\eta \\cdot \\frac{\\partial L}{\\partial w_{j,h}^{(l)}}\n",
    "$$\n",
    "\n",
    "**5. Backpropagation – Bias-Anpassung:**\n",
    "$$\n",
    "\\Delta b_h^{(l)} = \\eta \\cdot \\frac{\\partial L}{\\partial b_h^{(l)}}\n",
    "$$\n",
    "\n",
    "**6. Neue Gewichte nach der Aktualisierung (Gewichtsupdate):**\n",
    "$$\n",
    "w_{j,h}^{(l),\\text{neu}} = w_{j,h}^{(l),\\text{alt}} - \\Delta w_{j,h}^{(l)}\n",
    "$$\n",
    "\n",
    "**7. Neue Bias-Werte nach der Aktualisierung:**\n",
    "$$\n",
    "b_h^{(l),\\text{neu}} = b_h^{(l),\\text{alt}} - \\Delta b_h^{(l)}\n",
    "$$\n",
    "\n",
    "**8. Beispiel: Änderung eines Gewichts mit Lernrate \\( \\eta = 0.1 \\):**\n",
    "$$\n",
    "\\Delta w_1 = \\eta \\cdot \\frac{\\partial L}{\\partial w_1} = 0.1 \\cdot (-0.5) = -0.05\n",
    "$$\n",
    "\n",
    "**9. Neues Gewicht nach Update:**\n",
    "$$\n",
    "w_1^{\\text{neu}} = w_1 + \\Delta w_1 = 0.5 - 0.05 = 0.45\n",
    "$$\n",
    "\n",
    "**10. Zweites Beispiel mit positivem Gradienten:**\n",
    "$$\n",
    "\\Delta w_3 = 0.1 \\cdot (+0.05) = +0.005 \\quad \\Rightarrow \\quad w_3^{\\text{neu}} = -0.05 + 0.005 = -0.045\n",
    "$$\n",
    "\n",
    "**11. Allgemeine Gewichtsanpassungsformel (Gradientenverfahren):**\n",
    "$$\n",
    "w_{\\text{neu}} = w_{\\text{alt}} - \\eta \\cdot \\nabla L\n",
    "$$\n",
    "\n"
   ],
   "id": "d774e8287124e64"
  }
 ],
 "metadata": {
  "kernelspec": {
   "display_name": "Python 3",
   "language": "python",
   "name": "python3"
  },
  "language_info": {
   "codemirror_mode": {
    "name": "ipython",
    "version": 2
   },
   "file_extension": ".py",
   "mimetype": "text/x-python",
   "name": "python",
   "nbconvert_exporter": "python",
   "pygments_lexer": "ipython2",
   "version": "2.7.6"
  }
 },
 "nbformat": 4,
 "nbformat_minor": 5
}
